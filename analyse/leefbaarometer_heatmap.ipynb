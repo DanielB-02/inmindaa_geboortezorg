{
 "cells": [
  {
   "cell_type": "code",
   "id": "initial_id",
   "metadata": {
    "collapsed": true,
    "ExecuteTime": {
     "end_time": "2025-06-28T11:28:58.759639Z",
     "start_time": "2025-06-28T11:28:58.748334Z"
    }
   },
   "source": [
    "from sqlalchemy import create_engine\n",
    "import matplotlib.pyplot as plt\n",
    "from matplotlib.colors import LinearSegmentedColormap\n",
    "import pandas as pd\n",
    "import geopandas as gpd\n",
    "import folium\n",
    "from folium.plugins import HeatMap\n",
    "from folium import FeatureGroup, LayerControl\n",
    "from branca.colormap import linear\n",
    "import branca.colormap as cm\n",
    "\n",
    "import pandas_scripts.excel_scripts as exs\n",
    "import pandas_scripts.locatie_coords_geoshape_script as lcs\n",
    "\n",
    "import json\n",
    "\n"
   ],
   "outputs": [],
   "execution_count": 11
  },
  {
   "metadata": {
    "ExecuteTime": {
     "end_time": "2025-06-28T11:28:58.790886Z",
     "start_time": "2025-06-28T11:28:58.785126Z"
    }
   },
   "cell_type": "code",
   "source": [
    "DB_USER = \"s1144085\"\n",
    "DB_PASS = \"9515\"\n",
    "DB_HOST = \"95.217.3.61\"\n",
    "DB_PORT = \"5432\"\n",
    "DB_NAME = \"minor_s1144085\"\n",
    "SCHEMA_NAME = \"INMINDAA_project\""
   ],
   "id": "31ce9cdb5db78b08",
   "outputs": [],
   "execution_count": 12
  },
  {
   "metadata": {
    "ExecuteTime": {
     "end_time": "2025-06-28T11:28:58.811223Z",
     "start_time": "2025-06-28T11:28:58.804915Z"
    }
   },
   "cell_type": "code",
   "source": [
    "DATABASE_URL = f\"postgresql://{DB_USER}:{DB_PASS}@{DB_HOST}:{DB_PORT}/{DB_NAME}\"\n",
    "engine = create_engine(DATABASE_URL)"
   ],
   "id": "61595caaf2297b0a",
   "outputs": [],
   "execution_count": 13
  },
  {
   "metadata": {
    "ExecuteTime": {
     "end_time": "2025-06-28T11:28:58.829044Z",
     "start_time": "2025-06-28T11:28:58.821963Z"
    }
   },
   "cell_type": "code",
   "source": [
    "def fetch_leefbarometer_data():\n",
    "    query = f\"\"\"\n",
    "    SELECT *\n",
    "    FROM \"{SCHEMA_NAME}\".{\"dim_leefbarometer\"}\n",
    "    \"\"\"\n",
    "    return pd.read_sql(query, con=engine)"
   ],
   "id": "b10d2cd651fb757c",
   "outputs": [],
   "execution_count": 14
  },
  {
   "metadata": {
    "ExecuteTime": {
     "end_time": "2025-06-28T11:28:58.845383Z",
     "start_time": "2025-06-28T11:28:58.839680Z"
    }
   },
   "cell_type": "code",
   "source": [
    "def fetch_armoede_data():\n",
    "    query = f\"\"\"\n",
    "    SELECT *\n",
    "    FROM \"{SCHEMA_NAME}\".{\"dim_armoede\"}\n",
    "    \"\"\"\n",
    "    return pd.read_sql(query, con=engine)"
   ],
   "id": "6e227c7e089f49df",
   "outputs": [],
   "execution_count": 15
  },
  {
   "metadata": {
    "ExecuteTime": {
     "end_time": "2025-06-28T11:29:07.991627Z",
     "start_time": "2025-06-28T11:28:58.860004Z"
    }
   },
   "cell_type": "code",
   "source": [
    "df_leef = fetch_leefbarometer_data()\n",
    "df_armoede = fetch_armoede_data()\n",
    "\n",
    "te_verwijderen_score = [2.9613476]\n",
    "df_leef = df_leef[~df_leef['lbm_score'].isin(te_verwijderen_score)]\n",
    "\n",
    "geodf = lcs.get_geodataframe()\n",
    "\n",
    "df_leef['pc4_code'] = df_leef['pc4_code'].astype(str)\n",
    "# df_armoede['pc4_code'] = df_armoede['pc4_code'].astype(str)\n",
    "geodf['pc4_code'] = geodf['pc4_code'].astype(str)\n",
    "\n",
    "geodf_merged = geodf.merge(df_leef, on='pc4_code', how='left')\n",
    "geodf_merged = geodf_merged.dropna(subset=[\"lbm_score\"])\n",
    "\n",
    "# geodf_merged = geodf_merged.merge(df_armoede, on='pc4_code', how='left')\n",
    "# geodf_merged = geodf_merged.dropna(subset=[\"lbm_score\", \"g_ink_pi\"])"
   ],
   "id": "795c9b9880bbcc0",
   "outputs": [
    {
     "name": "stdout",
     "output_type": "stream",
     "text": [
      "Empty DataFrame\n",
      "Columns: [pc4_code, Geo Shape]\n",
      "Index: []\n"
     ]
    }
   ],
   "execution_count": 16
  },
  {
   "metadata": {
    "ExecuteTime": {
     "end_time": "2025-06-28T11:29:08.006351Z",
     "start_time": "2025-06-28T11:29:08.000760Z"
    }
   },
   "cell_type": "code",
   "source": [
    "# colors = [\"black\", \"lightblue\"]\n",
    "# my_cmap = LinearSegmentedColormap.from_list(\"custom_cmap\", colors, N=10)\n",
    "#\n",
    "# # Color options: 'hsv' 'cool'\n",
    "# fig, ax = plt.subplots(figsize=(8, 8))\n",
    "#\n",
    "# ax.set_title('Leefbaarometer-score in Nederland')\n",
    "# plt.style.use('dark_background')\n",
    "# ax.set_facecolor('black')\n",
    "# # plt.axis('off')\n",
    "# geodf_merged.plot(\n",
    "#     column='lbm_score',\n",
    "#     cmap=my_cmap,\n",
    "#     legend=True,\n",
    "#     ax=ax\n",
    "# )\n",
    "#\n",
    "# #54 50 3.2 7.5\n",
    "#\n",
    "# plt.show()"
   ],
   "id": "dbd31258dafea05",
   "outputs": [],
   "execution_count": 17
  },
  {
   "metadata": {},
   "cell_type": "markdown",
   "source": "# Nog niet werkende map met meerdere lagen",
   "id": "bf3ba1ed305ea451"
  },
  {
   "metadata": {
    "ExecuteTime": {
     "end_time": "2025-06-28T11:29:08.025715Z",
     "start_time": "2025-06-28T11:29:08.016819Z"
    }
   },
   "cell_type": "code",
   "source": [
    "# # colormap_lbm = linear.YlGn_09.scale(\n",
    "# #     geodf_merged.lbm_score.min(), geodf_merged.lbm_score.max()\n",
    "# # )\n",
    "# # lbm_dict = geodf_merged.set_index(\"pc4_code\")[\"lbm_score\"]\n",
    "# #\n",
    "# # colormap_ink = linear.YlGn_09.scale(\n",
    "# #     geodf_merged.g_ink_pi.min(), geodf_merged.g_ink_pi.max()\n",
    "# # )\n",
    "# # ink_dict = geodf_merged.set_index(\"pc4_code\")[\"g_ink_pi\"]\n",
    "#\n",
    "# linear1 = cm.LinearColormap([\"green\", \"yellow\", \"red\"], vmin=3, vmax=5)\n",
    "# linear2 = cm.LinearColormap([\"green\", \"yellow\", \"red\"], vmin=0, vmax=500000)\n",
    "#\n",
    "# nl_map = folium.Map(location=[52.132633, 5.291266], zoom_start=8, tiles='Cartodb Positron')\n",
    "#\n",
    "# lbm_layer = folium.FeatureGroup(name=\"Leefbaarometer\", show=True)\n",
    "# folium.GeoJson(\n",
    "#     geodf_merged,\n",
    "#     style_function=lambda feature: {\n",
    "#         \"fillColor\": 'viridis', # colormap_lbm(lbm_dict[feature[\"properties\"][\"pc4_code\"]]),\n",
    "#         \"color\": \"black\",\n",
    "#         \"weight\": 0.2,\n",
    "#         \"fillOpacity\": 0.7,\n",
    "#     },\n",
    "#     # tooltip=folium.GeoJsonTooltip(fields=[\"pc4_code\", \"lbm_score\"]),\n",
    "# ).add_to(lbm_layer)\n",
    "# lbm_layer.add_to(nl_map)\n",
    "# # colormap_lbm.caption = \"Leefbaarometer Score\"\n",
    "# # colormap_lbm.add_to(nl_map)\n",
    "#\n",
    "# ink_layer = folium.FeatureGroup(name=\"Inkomensscore\", show=False)\n",
    "# folium.GeoJson(\n",
    "#     geodf_merged,\n",
    "#     style_function=lambda feature: {\n",
    "#         \"fillColor\": 'viridis',# colormap_ink(ink_dict[feature[\"properties\"][\"pc4_code\"]]),\n",
    "#         \"color\": \"black\",\n",
    "#         \"weight\": 0.2,\n",
    "#         \"fillOpacity\": 0.7,\n",
    "#     },\n",
    "#     # tooltip=folium.GeoJsonTooltip(fields=[\"pc4_code\", \"g_ink_pi\"]),\n",
    "# ).add_to(ink_layer)\n",
    "# ink_layer.add_to(nl_map)\n",
    "# # colormap_ink.caption = \"Inkomensscore\"\n",
    "# # colormap_ink.add_to(nl_map)\n",
    "#\n",
    "# folium.LayerControl(collapsed=False).add_to(nl_map)\n",
    "# # display(nl_map)\n",
    "#\n",
    "# nl_map.save(\"leefbaarometer_en_inkomens_heatmap.html\")"
   ],
   "id": "78d8ec0fc6357370",
   "outputs": [],
   "execution_count": 18
  },
  {
   "metadata": {},
   "cell_type": "markdown",
   "source": "# Werkende Folium map gecombineerd met Geopandas",
   "id": "79977b7c44b42460"
  },
  {
   "metadata": {
    "ExecuteTime": {
     "end_time": "2025-06-28T11:29:53.991466Z",
     "start_time": "2025-06-28T11:29:08.035122Z"
    }
   },
   "cell_type": "code",
   "source": [
    "# Check en fix data\n",
    "geodf_merged = geodf_merged.dropna(subset=[\"lbm_score\"])\n",
    "geodf_merged[\"lbm_score\"] = geodf_merged[\"lbm_score\"].astype(float)\n",
    "\n",
    "min_score = geodf_merged[\"lbm_score\"].min()\n",
    "max_score = geodf_merged[\"lbm_score\"].max()\n",
    "\n",
    "colormap = linear.YlGn_09.scale(min_score, max_score)\n",
    "\n",
    "geodf_dict = geodf_merged.set_index(\"pc4_code\")[\"lbm_score\"]\n",
    "\n",
    "nl_map = folium.Map(location=[52.132633, 5.291266], zoom_start=8, tiles='Cartodb Positron')\n",
    "\n",
    "folium.GeoJson(\n",
    "    geodf_merged,\n",
    "    style_function=lambda feature: {\n",
    "        \"fillColor\": colormap(geodf_dict[feature[\"properties\"][\"pc4_code\"]]),\n",
    "        \"color\": \"black\",\n",
    "        \"weight\": 0.5,\n",
    "        \"fillOpacity\": 0.7,\n",
    "    },\n",
    "    tooltip=folium.GeoJsonTooltip(fields=[\"pc4_code\", \"lbm_score\"]),\n",
    ").add_to(nl_map)\n",
    "\n",
    "colormap.caption = \"Leefbaarometer Score\"\n",
    "colormap.add_to(nl_map)\n",
    "\n",
    "nl_map.save(\"leefbaarometer_heatmap.html\")\n"
   ],
   "id": "b7ee4886b264376b",
   "outputs": [],
   "execution_count": 19
  }
 ],
 "metadata": {
  "kernelspec": {
   "display_name": "Python 3",
   "language": "python",
   "name": "python3"
  },
  "language_info": {
   "codemirror_mode": {
    "name": "ipython",
    "version": 2
   },
   "file_extension": ".py",
   "mimetype": "text/x-python",
   "name": "python",
   "nbconvert_exporter": "python",
   "pygments_lexer": "ipython2",
   "version": "2.7.6"
  }
 },
 "nbformat": 4,
 "nbformat_minor": 5
}
