{
 "cells": [
  {
   "cell_type": "code",
   "execution_count": 11,
   "metadata": {
    "collapsed": true
   },
   "outputs": [],
   "source": [
    "# imports\n",
    "from sqlalchemy import create_engine\n",
    "import pandas as pd"
   ]
  },
  {
   "cell_type": "code",
   "execution_count": 12,
   "outputs": [],
   "source": [
    "DB_USER = \"s1144085\"\n",
    "DB_PASS = \"9515\"\n",
    "DB_HOST = \"95.217.3.61\"\n",
    "DB_PORT = \"5432\"\n",
    "DB_NAME = \"minor_s1144085\"\n",
    "SCHEMA_NAME = \"INMINDAA_project\""
   ],
   "metadata": {
    "collapsed": false
   }
  },
  {
   "cell_type": "code",
   "execution_count": 13,
   "outputs": [],
   "source": [
    "DATABASE_URL = f\"postgresql://{DB_USER}:{DB_PASS}@{DB_HOST}:{DB_PORT}/{DB_NAME}\"\n",
    "engine = create_engine(DATABASE_URL)"
   ],
   "metadata": {
    "collapsed": false
   }
  },
  {
   "cell_type": "code",
   "execution_count": 14,
   "outputs": [],
   "source": [
    "def select_all_from_dim_hittestress():\n",
    "    query = f\"\"\"\n",
    "    SELECT *\n",
    "    FROM \"{SCHEMA_NAME}\".{\"dim_hittestress\"}\n",
    "    \"\"\"\n",
    "    return pd.read_sql(query, con=engine)"
   ],
   "metadata": {
    "collapsed": false
   }
  },
  {
   "cell_type": "code",
   "execution_count": 15,
   "outputs": [
    {
     "data": {
      "text/plain": "   hittestress_id pc4_code  _count     _sum      _mean  pet_gem  rivm_class  \\\n0               1     9711   42601  1887215  44.299780       44           6   \n1               2     9712   42601  1887215  44.299780       44           6   \n2               3     9711   72231  3185994  44.108402       44           6   \n3               4     9712   72231  3185994  44.108402       44           6   \n4               5     9711   37722  1713632  45.427920       45           6   \n\n   jaartal  \n0     2022  \n1     2022  \n2     2022  \n3     2022  \n4     2022  ",
      "text/html": "<div>\n<style scoped>\n    .dataframe tbody tr th:only-of-type {\n        vertical-align: middle;\n    }\n\n    .dataframe tbody tr th {\n        vertical-align: top;\n    }\n\n    .dataframe thead th {\n        text-align: right;\n    }\n</style>\n<table border=\"1\" class=\"dataframe\">\n  <thead>\n    <tr style=\"text-align: right;\">\n      <th></th>\n      <th>hittestress_id</th>\n      <th>pc4_code</th>\n      <th>_count</th>\n      <th>_sum</th>\n      <th>_mean</th>\n      <th>pet_gem</th>\n      <th>rivm_class</th>\n      <th>jaartal</th>\n    </tr>\n  </thead>\n  <tbody>\n    <tr>\n      <th>0</th>\n      <td>1</td>\n      <td>9711</td>\n      <td>42601</td>\n      <td>1887215</td>\n      <td>44.299780</td>\n      <td>44</td>\n      <td>6</td>\n      <td>2022</td>\n    </tr>\n    <tr>\n      <th>1</th>\n      <td>2</td>\n      <td>9712</td>\n      <td>42601</td>\n      <td>1887215</td>\n      <td>44.299780</td>\n      <td>44</td>\n      <td>6</td>\n      <td>2022</td>\n    </tr>\n    <tr>\n      <th>2</th>\n      <td>3</td>\n      <td>9711</td>\n      <td>72231</td>\n      <td>3185994</td>\n      <td>44.108402</td>\n      <td>44</td>\n      <td>6</td>\n      <td>2022</td>\n    </tr>\n    <tr>\n      <th>3</th>\n      <td>4</td>\n      <td>9712</td>\n      <td>72231</td>\n      <td>3185994</td>\n      <td>44.108402</td>\n      <td>44</td>\n      <td>6</td>\n      <td>2022</td>\n    </tr>\n    <tr>\n      <th>4</th>\n      <td>5</td>\n      <td>9711</td>\n      <td>37722</td>\n      <td>1713632</td>\n      <td>45.427920</td>\n      <td>45</td>\n      <td>6</td>\n      <td>2022</td>\n    </tr>\n  </tbody>\n</table>\n</div>"
     },
     "execution_count": 15,
     "metadata": {},
     "output_type": "execute_result"
    }
   ],
   "source": [
    "df = select_all_from_dim_hittestress()\n",
    "df.head(5)"
   ],
   "metadata": {
    "collapsed": false
   }
  },
  {
   "cell_type": "code",
   "execution_count": null,
   "outputs": [],
   "source": [],
   "metadata": {
    "collapsed": false
   }
  }
 ],
 "metadata": {
  "kernelspec": {
   "display_name": "Python 3",
   "language": "python",
   "name": "python3"
  },
  "language_info": {
   "codemirror_mode": {
    "name": "ipython",
    "version": 2
   },
   "file_extension": ".py",
   "mimetype": "text/x-python",
   "name": "python",
   "nbconvert_exporter": "python",
   "pygments_lexer": "ipython2",
   "version": "2.7.6"
  }
 },
 "nbformat": 4,
 "nbformat_minor": 0
}
