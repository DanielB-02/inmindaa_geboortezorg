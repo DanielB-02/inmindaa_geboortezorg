{
 "cells": [
  {
   "cell_type": "code",
   "execution_count": 23,
   "metadata": {},
   "outputs": [],
   "source": [
    "# imports\n",
    "from sqlalchemy import create_engine\n",
    "import pandas as pd\n",
    "import numpy as np\n",
    "from sklearn.impute import SimpleImputer\n",
    "from sklearn.linear_model import LinearRegression\n",
    "from sklearn.metrics import mean_squared_error, r2_score\n",
    "import matplotlib.pyplot as plt\n",
    "import seaborn as sns"
   ]
  },
  {
   "cell_type": "markdown",
   "metadata": {
    "collapsed": false
   },
   "source": [
    "# Database Connectie"
   ]
  },
  {
   "cell_type": "code",
   "execution_count": 3,
   "metadata": {
    "collapsed": false
   },
   "outputs": [],
   "source": [
    "DB_USER = \"s1144085\"\n",
    "DB_PASS = \"9515\"\n",
    "DB_HOST = \"95.217.3.61\"\n",
    "DB_PORT = \"5432\"\n",
    "DB_NAME = \"minor_s1144085\"\n",
    "SCHEMA_NAME = \"INMINDAA_project\""
   ]
  },
  {
   "cell_type": "code",
   "execution_count": 4,
   "metadata": {
    "collapsed": false
   },
   "outputs": [],
   "source": [
    "DATABASE_URL = f\"postgresql://{DB_USER}:{DB_PASS}@{DB_HOST}:{DB_PORT}/{DB_NAME}\"\n",
    "engine = create_engine(DATABASE_URL)"
   ]
  },
  {
   "cell_type": "markdown",
   "metadata": {
    "collapsed": false
   },
   "source": [
    "# Afhankelijke en Onafhankelijke variabelen"
   ]
  },
  {
   "cell_type": "code",
   "execution_count": 6,
   "metadata": {
    "collapsed": false
   },
   "outputs": [],
   "source": [
    "dependent_variable = 'opnamen_per_1000_inwoners' # 15.2 Ov. zwangerschap eind. misgeboorte, 20 tot 45 jaar\n",
    "\n",
    "armoede_variable = 'g_hh_sti' # Gemiddelde gestandaardiseerd inkomen van huishouden * 1000 euro\n",
    "hittestress_variable = 'pet_gem' # Gevoelstemperatuur (niet afgerond)\n",
    "huisartsen_variable = 'per_1e4' # Wiskundige notatie van de gemiddelde huisartsen dichtheid per 10.000 inwoners.\n",
    "leefbarometer_variable = 'lbm_score' # Leefbaarheidsscore\n",
    "\n",
    "independent_variables = [\n",
    "    armoede_variable,\n",
    "    hittestress_variable,\n",
    "    huisartsen_variable,\n",
    "    leefbarometer_variable\n",
    "]"
   ]
  },
  {
   "cell_type": "code",
   "execution_count": 7,
   "metadata": {
    "collapsed": false
   },
   "outputs": [
    {
     "name": "stdout",
     "output_type": "stream",
     "text": [
      "Highest value: 63.70000076293945\n"
     ]
    }
   ],
   "source": [
    "def select_variables():\n",
    "    query = f\"\"\"\n",
    "    SELECT\n",
    "        pc4_code,\n",
    "        AVG({dependent_variable}) AS opnamen_per_1000_inwoners,\n",
    "        AVG({hittestress_variable}) AS pet_gem,\n",
    "        AVG({armoede_variable}) AS g_hh_sti,\n",
    "        AVG({huisartsen_variable}) AS per_1e4,\n",
    "        AVG({leefbarometer_variable}) AS lbm_score\n",
    "    FROM \"{SCHEMA_NAME}\".{\"fact_rapportage\"}\n",
    "    GROUP BY pc4_code\n",
    "    ORDER BY pc4_code\n",
    "    \"\"\"\n",
    "    return pd.read_sql(query, con=engine)\n",
    "\n",
    "df = select_variables()\n",
    "\n",
    "df.head(20)\n",
    "\n",
    "print(f\"Highest value:\", df[armoede_variable].max())"
   ]
  },
  {
   "cell_type": "markdown",
   "metadata": {
    "collapsed": false
   },
   "source": [
    "# Gegevensvoorbereiding"
   ]
  },
  {
   "cell_type": "markdown",
   "metadata": {
    "collapsed": false
   },
   "source": [
    "## Imputatie"
   ]
  },
  {
   "cell_type": "code",
   "execution_count": 10,
   "metadata": {
    "collapsed": false
   },
   "outputs": [
    {
     "name": "stdout",
     "output_type": "stream",
     "text": [
      "Missing values after imputation:\n",
      "pc4_code                     0\n",
      "opnamen_per_1000_inwoners    0\n",
      "pet_gem                      0\n",
      "g_hh_sti                     0\n",
      "per_1e4                      0\n",
      "lbm_score                    0\n",
      "dtype: int64\n"
     ]
    }
   ],
   "source": [
    "# Function to extract the first two digits of a PC4 code\n",
    "def get_two_digit_prefix(pc4_code):\n",
    "    return str(pc4_code)[:2]\n",
    "\n",
    "# Function to get all PC4 codes with the same two-digit prefix\n",
    "def get_same_prefix_pc4_codes(target_pc4, all_pc4_codes):\n",
    "    target_prefix = get_two_digit_prefix(target_pc4)\n",
    "    return [pc4 for pc4 in all_pc4_codes if get_two_digit_prefix(pc4) == target_prefix and pc4 != target_pc4]\n",
    "\n",
    "# Function to impute missing values for avg_g_hh_sti using the mean of PC4 codes with the same two-digit prefix\n",
    "def impute_by_prefix(df, target_pc4, column):\n",
    "    # Get PC4 codes with the same two-digit prefix\n",
    "    same_prefix_pc4_codes = get_same_prefix_pc4_codes(target_pc4, df['pc4_code'].values)\n",
    "\n",
    "    # Filter DataFrame for PC4 codes with the same prefix and non-null values in the target column\n",
    "    prefix_means = df[df['pc4_code'].isin(same_prefix_pc4_codes)][column]\n",
    "    prefix_means = prefix_means.dropna()\n",
    "\n",
    "    if not prefix_means.empty:\n",
    "        # Return mean of PC4 codes with the same prefix\n",
    "        return prefix_means.mean()\n",
    "    else:\n",
    "        # Fallback to global mean if no non-null values in the prefix group\n",
    "        imputer = SimpleImputer(strategy='mean')\n",
    "        valid_values = df[column].dropna().values.reshape(-1, 1)\n",
    "        if len(valid_values) > 0:\n",
    "            imputer.fit(valid_values)\n",
    "            return imputer.transform([[np.nan]])[0][0]\n",
    "        return np.nan  # If no valid values exist, return NaN\n",
    "\n",
    "# Create a copy of the DataFrame to impute\n",
    "df_imputed = df.copy()\n",
    "\n",
    "# Impute missing values for avg_g_hh_sti\n",
    "column = 'g_hh_sti'\n",
    "missing_pc4 = df_imputed[df_imputed[column].isna()]['pc4_code'].unique()\n",
    "\n",
    "for pc4 in missing_pc4:\n",
    "    # Get rows for this pc4_code\n",
    "    mask = df_imputed['pc4_code'] == pc4\n",
    "    # Impute missing values using the mean of PC4 codes with the same two-digit prefix\n",
    "    imputed_value = impute_by_prefix(df_imputed, pc4, column)\n",
    "    df_imputed.loc[mask & df_imputed[column].isna(), column] = imputed_value\n",
    "\n",
    "# Check for remaining missing values\n",
    "print(\"Missing values after imputation:\")\n",
    "print(df_imputed.isna().sum())"
   ]
  },
  {
   "cell_type": "markdown",
   "metadata": {
    "collapsed": false
   },
   "source": [
    "## Normalisatie"
   ]
  },
  {
   "cell_type": "code",
   "execution_count": 12,
   "metadata": {
    "collapsed": false
   },
   "outputs": [],
   "source": [
    "# Normalize the independent variables\n",
    "from sklearn.preprocessing import MinMaxScaler\n",
    "\n",
    "def normalize_data(df, columns):\n",
    "    scaler = MinMaxScaler()\n",
    "    df[columns] = scaler.fit_transform(df[columns])\n",
    "    return df\n",
    "\n",
    "df_normalized = normalize_data(df_imputed, independent_variables)"
   ]
  },
  {
   "cell_type": "markdown",
   "metadata": {
    "collapsed": false
   },
   "source": [
    "# Regressie analyse"
   ]
  },
  {
   "cell_type": "code",
   "execution_count": 15,
   "metadata": {
    "collapsed": false,
    "is_executing": true
   },
   "outputs": [
    {
     "name": "stdout",
     "output_type": "stream",
     "text": [
      "Correlatiematrix:\n",
      "                           pc4_code  opnamen_per_1000_inwoners   pet_gem  \\\n",
      "pc4_code                   1.000000                  -0.164705 -0.174669   \n",
      "opnamen_per_1000_inwoners -0.164705                   1.000000  0.077067   \n",
      "pet_gem                   -0.174669                   0.077067  1.000000   \n",
      "g_hh_sti                  -0.471874                   0.130776 -0.180820   \n",
      "per_1e4                    0.069241                   0.062865 -0.074463   \n",
      "lbm_score                  0.198284                  -0.080077 -0.413543   \n",
      "\n",
      "                           g_hh_sti   per_1e4  lbm_score  \n",
      "pc4_code                  -0.471874  0.069241   0.198284  \n",
      "opnamen_per_1000_inwoners  0.130776  0.062865  -0.080077  \n",
      "pet_gem                   -0.180820 -0.074463  -0.413543  \n",
      "g_hh_sti                   1.000000  0.092684   0.244470  \n",
      "per_1e4                    0.092684  1.000000   0.145500  \n",
      "lbm_score                  0.244470  0.145500   1.000000  \n"
     ]
    }
   ],
   "source": [
    "matrix = df_normalized.corr()\n",
    "\n",
    "# Print de correlatiematrix\n",
    "print(\"Correlatiematrix:\")\n",
    "print(matrix)"
   ]
  },
  {
   "cell_type": "code",
   "execution_count": 17,
   "metadata": {},
   "outputs": [
    {
     "data": {
      "image/png": "[encoded data removed]",
      "text/plain": [
       "<Figure size 640x480 with 2 Axes>"
      ]
     },
     "metadata": {},
     "output_type": "display_data"
    }
   ],
   "source": [
    "sns.heatmap(matrix, annot=True, cmap='coolwarm')\n",
    "plt.title('Heatmap van numerieke waardes')\n",
    "plt.show()"
   ]
  },
  {
   "cell_type": "code",
   "execution_count": 39,
   "metadata": {},
   "outputs": [],
   "source": [
    "def plot_regression(X, y):\n",
    "    model = LinearRegression()\n",
    "    model.fit(X, y)\n",
    "    y_pred = model.predict(X)\n",
    "    r2 = r2_score(y, y_pred)\n",
    "    mse = mean_squared_error(y, y_pred)\n",
    "    print(f'Mean Squared Error (Armoede vs Zwangerschap): {mse:.2f}')\n",
    "    print(f'R2 for Prediction: {r2:.2f}')\n",
    "    \n",
    "    print(\"Slope (helling):\", model.coef_)\n",
    "    print(\"Intercept (snijpunt):\", model.intercept_)\n",
    "    \n",
    "    # plt.scatter(X, y, color='blue', label='Data')\n",
    "    # plt.plot(X, y_pred, color='red')\n",
    "    # plt.xlabel('G1')\n",
    "    # plt.ylabel('G3')\n",
    "    # plt.legend()\n",
    "\n",
    "    return r2"
   ]
  },
  {
   "cell_type": "code",
   "execution_count": 41,
   "metadata": {},
   "outputs": [
    {
     "name": "stdout",
     "output_type": "stream",
     "text": [
      "Mean Squared Error (Armoede vs Zwangerschap): 56.87\n",
      "R2 for Prediction: 0.02\n",
      "Slope (helling): [[10.166743]]\n",
      "Intercept (snijpunt): [19.0334473]\n"
     ]
    }
   ],
   "source": [
    "X = df_normalized[[armoede_variable]]\n",
    "y = df_normalized[[dependent_variable]]\n",
    "r2_perfect = plot_regression(X, y)"
   ]
  },
  {
   "cell_type": "code",
   "execution_count": null,
   "metadata": {
    "collapsed": false
   },
   "outputs": [],
   "source": [
    "# Prepare data for regression\n",
    "X = df_normalized[independent_variables]\n",
    "y = df_normalized[dependent_variable]\n",
    "\n",
    "# Initialize and fit the linear regression model\n",
    "model = LinearRegression()\n",
    "model.fit(X, y)\n",
    "\n",
    "# Get coefficients and intercept\n",
    "coefficients = pd.DataFrame({\n",
    "    'Variable': independent_variables,\n",
    "    'Coefficient': model.coef_\n",
    "})\n",
    "intercept = model.intercept_\n",
    "\n",
    "# Calculate R-squared\n",
    "y_pred = model.predict(X)\n",
    "r_squared = r2_score(y, y_pred)\n",
    "\n",
    "# Print results\n",
    "print('Regression Analysis Results')\n",
    "print('==========================')\n",
    "print('Coefficients:')\n",
    "print(coefficients.to_string(index=False))\n",
    "print(f'\\nIntercept: {intercept:.4f}')\n",
    "print(f'R-squared: {r_squared:.4f}')"
   ]
  },
  {
   "cell_type": "code",
   "execution_count": null,
   "metadata": {
    "collapsed": false
   },
   "outputs": [],
   "source": [
    "# Set style for better visualization\n",
    "sns.set(style=\"whitegrid\")\n",
    "\n",
    "# Create a figure with subplots (2x2 grid for 4 independent variables)\n",
    "fig, axes = plt.subplots(2, 2, figsize=(12, 8))\n",
    "axes = axes.flatten()  # Flatten the 2x2 array for easier iteration\n",
    "\n",
    "# Plot each independent variable against the dependent variable\n",
    "for i, var in enumerate(independent_variables):\n",
    "    # Scatter plot with regression line\n",
    "    sns.regplot(x=var, y=dependent_variable, data=df_normalized, ax=axes[i],\n",
    "                scatter_kws={'s': 50, 'alpha': 0.6}, line_kws={'color': 'red'})\n",
    "\n",
    "    # Set title and labels\n",
    "    axes[i].set_title(f'{var} vs {dependent_variable}')\n",
    "    axes[i].set_xlabel(var)\n",
    "    axes[i].set_ylabel(dependent_variable)\n",
    "\n",
    "# Adjust layout to prevent overlap\n",
    "plt.tight_layout()\n",
    "\n",
    "# Show the plot\n",
    "plt.show()"
   ]
  },
  {
   "cell_type": "markdown",
   "metadata": {
    "collapsed": false
   },
   "source": [
    "opnamen_per_1000_inwoner: zwangerschap eind. misgeboorte, 20 tot 45 jaar\n",
    "g_hh_sti = Gemiddelde gestandaardiseerd inkomen van huishouden * 1000 euro\n",
    "pet_gem =  Gevoelstemperatuur (niet afgerond)\n",
    "per_1e4 = Wiskundige notatie van de gemiddelde huisartsen dichtheid per 10.000 inwoners.\n",
    "lbm_score = Leefbaarheidsscore"
   ]
  }
 ],
 "metadata": {
  "kernelspec": {
   "display_name": "Python [conda env:base] *",
   "language": "python",
   "name": "conda-base-py"
  },
  "language_info": {
   "codemirror_mode": {
    "name": "ipython",
    "version": 3
   },
   "file_extension": ".py",
   "mimetype": "text/x-python",
   "name": "python",
   "nbconvert_exporter": "python",
   "pygments_lexer": "ipython3",
   "version": "3.11.7"
  }
 },
 "nbformat": 4,
 "nbformat_minor": 4
}
