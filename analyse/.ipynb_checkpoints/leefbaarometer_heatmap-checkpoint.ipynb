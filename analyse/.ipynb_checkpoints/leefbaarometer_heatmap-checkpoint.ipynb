{
 "cells": [
  {
   "cell_type": "code",
   "id": "initial_id",
   "metadata": {
    "collapsed": true,
    "ExecuteTime": {
     "end_time": "2025-06-28T14:12:35.802006Z",
     "start_time": "2025-06-28T14:12:33.752470Z"
    }
   },
   "source": [
    "from sqlalchemy import create_engine\n",
    "import pandas as pd\n",
    "import folium\n",
    "from branca.colormap import linear\n",
    "import pandas_scripts.locatie_coords_geoshape_script as lcs"
   ],
   "outputs": [],
   "execution_count": 2
  },
  {
   "metadata": {
    "ExecuteTime": {
     "end_time": "2025-06-28T14:12:35.810889Z",
     "start_time": "2025-06-28T14:12:35.808325Z"
    }
   },
   "cell_type": "code",
   "source": [
    "DB_USER = \"s1144085\"\n",
    "DB_PASS = \"9515\"\n",
    "DB_HOST = \"95.217.3.61\"\n",
    "DB_PORT = \"5432\"\n",
    "DB_NAME = \"minor_s1144085\"\n",
    "SCHEMA_NAME = \"INMINDAA_project\""
   ],
   "id": "31ce9cdb5db78b08",
   "outputs": [],
   "execution_count": 3
  },
  {
   "metadata": {
    "ExecuteTime": {
     "end_time": "2025-06-28T14:12:35.896801Z",
     "start_time": "2025-06-28T14:12:35.817498Z"
    }
   },
   "cell_type": "code",
   "source": [
    "# Legt de verbinding met de database\n",
    "DATABASE_URL = f\"postgresql://{DB_USER}:{DB_PASS}@{DB_HOST}:{DB_PORT}/{DB_NAME}\"\n",
    "engine = create_engine(DATABASE_URL)"
   ],
   "id": "61595caaf2297b0a",
   "outputs": [],
   "execution_count": 4
  },
  {
   "metadata": {
    "ExecuteTime": {
     "end_time": "2025-06-28T14:12:35.906412Z",
     "start_time": "2025-06-28T14:12:35.902314Z"
    }
   },
   "cell_type": "code",
   "source": [
    "# De functies om de data uit de database te halen\n",
    "def fetch_leefbarometer_data():\n",
    "    query = f\"\"\"\n",
    "    SELECT *\n",
    "    FROM \"{SCHEMA_NAME}\".{\"dim_leefbarometer\"}\n",
    "    \"\"\"\n",
    "    return pd.read_sql(query, con=engine)\n",
    "\n",
    "def fetch_armoede_data():\n",
    "    query = f\"\"\"\n",
    "    SELECT *\n",
    "    FROM \"{SCHEMA_NAME}\".{\"dim_armoede\"}\n",
    "    \"\"\"\n",
    "    return pd.read_sql(query, con=engine)\n",
    "\n",
    "def fetch_hittestress_data():\n",
    "    query = f\"\"\"\n",
    "    SELECT *\n",
    "    FROM \"{SCHEMA_NAME}\".{\"dim_hittestress\"}\n",
    "    \"\"\"\n",
    "    return pd.read_sql(query, con=engine)\n",
    "\n",
    "def fetch_huisartsen_data():\n",
    "    query = f\"\"\"\n",
    "    SELECT *\n",
    "    FROM \"{SCHEMA_NAME}\".{\"dim_huisartsen\"}\n",
    "    \"\"\"\n",
    "    return pd.read_sql(query, con=engine)\n",
    "\n",
    "# Pakt alleen de data waar de leeftijdsgroep = '20 tot 45 jaar' en\n",
    "# Waar de diagnose = '15.2 Ov. zwangerschap eind. misgeboorte'\n",
    "def fetch_zwangerschappen_data():\n",
    "    query = f\"\"\"\n",
    "    SELECT *\n",
    "    FROM \"{SCHEMA_NAME}\".\"dim_zwangerschappen\"\n",
    "    WHERE diagnose = '15.2 Ov. zwangerschap eind. misgeboorte'\n",
    "        AND leeftijdsgroep = '20 tot 45 jaar'\n",
    "    \"\"\"\n",
    "    return pd.read_sql(query, con=engine)"
   ],
   "id": "b10d2cd651fb757c",
   "outputs": [],
   "execution_count": 5
  },
  {
   "metadata": {
    "ExecuteTime": {
     "end_time": "2025-06-28T14:12:46.120644Z",
     "start_time": "2025-06-28T14:12:35.916714Z"
    }
   },
   "cell_type": "code",
   "source": [
    "# Data ophalen\n",
    "df_leef = fetch_leefbarometer_data()\n",
    "df_armoede = fetch_armoede_data()\n",
    "df_hittestress = fetch_hittestress_data()\n",
    "df_huisartsen = fetch_huisartsen_data()\n",
    "df_zwangerschappen = fetch_zwangerschappen_data()\n",
    "\n",
    "geodf = lcs.get_geodataframe()\n",
    "\n",
    "te_verwijderen_score = [2.9613476]\n",
    "df_leef = df_leef[~df_leef['lbm_score'].isin(te_verwijderen_score)]"
   ],
   "id": "795c9b9880bbcc0",
   "outputs": [
    {
     "name": "stdout",
     "output_type": "stream",
     "text": [
      "Empty DataFrame\n",
      "Columns: [pc4_code, Geo Shape]\n",
      "Index: []\n"
     ]
    }
   ],
   "execution_count": 6
  },
  {
   "metadata": {
    "ExecuteTime": {
     "end_time": "2025-06-28T14:13:43.462237Z",
     "start_time": "2025-06-28T14:12:46.128445Z"
    }
   },
   "cell_type": "code",
   "source": [
    "def maak_heatmap(geodf, df_data, value_column, tooltip_fields, titel, output_file):\n",
    "    df_data['pc4_code'] = df_data['pc4_code'].astype(str)\n",
    "    geodf['pc4_code'] = geodf['pc4_code'].astype(str)\n",
    "\n",
    "    # Pakt het gemiddelde van de data per unieke pc4_code\n",
    "    df_agg = df_data.groupby(\"pc4_code\", as_index=False)[value_column].mean()\n",
    "\n",
    "    # Merged de data met de geometrie\n",
    "    geodf_merged = geodf.merge(df_agg, on='pc4_code', how='left')\n",
    "    geodf_merged = geodf_merged.dropna(subset=[value_column])\n",
    "    geodf_merged[value_column] = geodf_merged[value_column].astype(float)\n",
    "\n",
    "    min_score = geodf_merged[value_column].min()\n",
    "    max_score = geodf_merged[value_column].max()\n",
    "    colormap = linear.YlOrRd_09.scale(min_score, max_score)\n",
    "    geodf_dict = geodf_merged.set_index(\"pc4_code\")[value_column]\n",
    "\n",
    "    # Maakt de Folium-kaart met behulp van de geodata\n",
    "    nl_map = folium.Map(location=[52.132633, 5.291266], zoom_start=8, tiles='Cartodb Positron')\n",
    "    folium.GeoJson(\n",
    "        geodf_merged,\n",
    "        style_function=lambda feature: {\n",
    "            \"fillColor\": colormap(geodf_dict.get(feature[\"properties\"][\"pc4_code\"], 0)),\n",
    "            \"color\": \"black\",\n",
    "            \"weight\": 0.5,\n",
    "            \"fillOpacity\": 0.7,\n",
    "        },\n",
    "        tooltip=folium.GeoJsonTooltip(fields=tooltip_fields),\n",
    "    ).add_to(nl_map)\n",
    "\n",
    "    colormap.caption = titel\n",
    "    colormap.add_to(nl_map)\n",
    "\n",
    "    nl_map.save(output_file)\n",
    "    print(f\"Kaart opgeslagen als {output_file}\")\n",
    "\n",
    "# Roept de functie op om de verschillende heatmaps te maken\n",
    "maak_heatmap(geodf, df_leef, \"lbm_score\", [\"pc4_code\", \"lbm_score\"], \"Leefbaarometer Score\", \"leefbaarometer_heatmap.html\")\n",
    "maak_heatmap(geodf, df_armoede, \"g_ink_pi\", [\"pc4_code\", \"g_ink_pi\"], \"Gemiddeld Inkomen per Inwoner * 1000\", \"armoede_heatmap.html\")\n",
    "maak_heatmap(geodf, df_hittestress, \"pet_gem\", [\"pc4_code\", \"pet_gem\"], \"Gemiddelde Gevoelstemperatuur tijdens Hittestress\", \"hittestress_heatmap.html\")\n",
    "maak_heatmap(geodf, df_huisartsen, \"per_1e4\", [\"pc4_code\", \"per_1e4\"], \"Huisartsen Dichtheid per 10000 Inwoners\", \"huisartsen_heatmap.html\")\n",
    "maak_heatmap(geodf, df_zwangerschappen, \"opnamen_per_1000_inwoners\", [\"pc4_code\", \"opnamen_per_1000_inwoners\"], \"Misgeboortes per 1000 vrouwen\", \"zwangerschap_heatmap_20tm45.html\")"
   ],
   "id": "38cbd108dcb5563",
   "outputs": [
    {
     "name": "stdout",
     "output_type": "stream",
     "text": [
      "Kaart opgeslagen als zwangerschap_heatmap_20tm45.html\n"
     ]
    }
   ],
   "execution_count": 7
  }
 ],
 "metadata": {
  "kernelspec": {
   "display_name": "Python 3",
   "language": "python",
   "name": "python3"
  },
  "language_info": {
   "codemirror_mode": {
    "name": "ipython",
    "version": 2
   },
   "file_extension": ".py",
   "mimetype": "text/x-python",
   "name": "python",
   "nbconvert_exporter": "python",
   "pygments_lexer": "ipython2",
   "version": "2.7.6"
  }
 },
 "nbformat": 4,
 "nbformat_minor": 5
}
